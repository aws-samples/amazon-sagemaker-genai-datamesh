{
 "cells": [
  {
   "cell_type": "markdown",
   "id": "0855b561",
   "metadata": {},
   "source": [
    "# Integrate Data Mesh Architecture with Generative AI and interact using prompts for querying SQL databases & APIs"
   ]
  },
  {
   "cell_type": "markdown",
   "id": "26105729-b3e3-42d0-a583-8446fff89277",
   "metadata": {},
   "source": [
    "This notebook demonstrates how large language models, such as Anthropic, interact with AWS databases, data stores, and third-party data warehousing solutions like Snowflake. We showcase this interaction by generating and running SQL queries and making requests to API endpoints. We achieve all of this by using the LangChain framework, which allows the language model to interact with its environment and connect with other sources of data. The LangChain framework operates based on the following principles: calling out to a language model, being data-aware, and being agentic. Our notebook focuses on establishing database connections to various data sources, consolidating metadata, and returning fact-based data points in response to user queries using LLMs and LangChain."
   ]
  },
  {
   "cell_type": "markdown",
   "id": "a310d6ea-2ee1-4979-bb5e-b65cb892c0cd",
   "metadata": {},
   "source": [
    "\n",
    "<img src='./images/GenAI+SQL-Prompt Engineering Steps V6.drawio.png' width=\"800\" height=\"600\">\n"
   ]
  },
  {
   "cell_type": "markdown",
   "id": "5d0297e0-f2dd-464b-9254-6693c45ebafc",
   "metadata": {
    "tags": []
   },
   "source": [
    "Step 1. Connection to various channels through which LLMs can talk to your data. These channels include:\n",
    "\n",
    "    - RedShift Serverless - to connect to datastore 'tickit'(ticket is referred as tickit in the sample data store) to retrieve information regarding ticket sales.\n",
    "    - Aurora - MySQL Serverless - to connect to datastore that hosts information about the employees.\n",
    "    - S3/Athena - to connect to the SageMaker's offline feature store on claims information. \n",
    "    - Snowflake - to connect to stocks related data residing in finance schema of 3rd party software.\n",
    "    - APIs - to connect to meteo(in this example we use Langchain's sample dataset on meteo) to retrieve weather information.\n",
    "    \n",
    "Step 2. Usage of Dynamic generation of prompt templates by populating metadata of the tables using Glue Data Catalog(GDC) as context. GDC was populated by running a crawler on the databases. Refer to the information here to create and run a glue crawler. In case of api, a line item was created in GDC data extract.\n",
    "\n",
    "Step 3. Apply user query to LLM and Langchain to determine the data channel.\n",
    "\n",
    "Step 4. After determining the data channel, run the Langchain SQL Database chain to convert 'text to sql' and run the query against the source data channel. \n",
    "\n",
    "Finally, display the results.\n"
   ]
  },
  {
   "cell_type": "markdown",
   "id": "e0986ea2-f794-431f-a341-b94f0118cb7d",
   "metadata": {
    "tags": []
   },
   "source": [
    "### Pre-requisites:\n",
    "1. Use kernel Base Python 3.0\n",
    "2. Setup Aurora MySQL Serverless database. Load Employee dataset. Use this notebook to load the data into Aurora MySQL.\n",
    "3. Setup Redshift Serverless. Enable sample data dev for tickit dataset.\n",
    "4. Setup Snowflake account and populate stocks data. Use this notebook to load the data into Snowflake.\n",
    "5. Run the Glue Crawler on all the databases mentioned above. \n",
    "6. Provide Anthropic API Keys.\n",
    "7. Pip install the required libraries mentioned in requirements.txt."
   ]
  },
  {
   "cell_type": "code",
   "execution_count": null,
   "id": "b55d516c",
   "metadata": {
    "scrolled": true,
    "tags": []
   },
   "outputs": [],
   "source": [
    "pip install -r requirements.txt"
   ]
  },
  {
   "cell_type": "code",
   "execution_count": 2,
   "id": "91c153cd",
   "metadata": {
    "tags": []
   },
   "outputs": [],
   "source": [
    "import json\n",
    "import boto3\n",
    "\n",
    "import sqlalchemy\n",
    "from sqlalchemy import create_engine\n",
    "from snowflake.sqlalchemy import URL\n",
    "\n",
    "from langchain.docstore.document import Document\n",
    "from langchain import PromptTemplate,SagemakerEndpoint,SQLDatabase, SQLDatabaseChain, LLMChain\n",
    "from langchain.llms.sagemaker_endpoint import LLMContentHandler\n",
    "from langchain.chains.question_answering import load_qa_chain\n",
    "from langchain.prompts.prompt import PromptTemplate\n",
    "from langchain.chains import SQLDatabaseSequentialChain\n",
    "\n",
    "from langchain.chains.api.prompt import API_RESPONSE_PROMPT\n",
    "from langchain.chains import APIChain\n",
    "from langchain.prompts.prompt import PromptTemplate\n",
    "from langchain.llms import Anthropic\n",
    "from langchain.chains.api import open_meteo_docs\n",
    "\n",
    "from typing import Dict"
   ]
  },
  {
   "cell_type": "markdown",
   "id": "b51d1d0e-33fb-46ca-b82f-6294ea867cae",
   "metadata": {
    "tags": []
   },
   "source": [
    "### Step 1 - Connect to databases using SQL Alchemy. \n",
    "\n",
    "Under the hood, LangChain uses SQLAlchemy to connect to SQL databases. The SQLDatabaseChain can therefore be used with any SQL dialect supported by SQLAlchemy, \n",
    "such as MS SQL, MySQL, MariaDB, PostgreSQL, Oracle SQL, and SQLite. Please refer to the SQLAlchemy documentation for more information about requirements for connecting to your database. \n"
   ]
  },
  {
   "cell_type": "markdown",
   "id": "e5f5ce28-9b33-4061-8655-2b297d5c24a2",
   "metadata": {
    "tags": []
   },
   "source": [
    "**Important**: The code below establishes a database connection for data sources and Large Language Models. Please note that the solution will only work if the database connection for your sources is defined in the cell below. Please refer to the Pre-requisites section. If your use case requires data from Aurora MySQL alone, then please comment out other data sources. Furthermore, please update the cluster details and variables for Aurora MySQL accordingly."
   ]
  },
  {
   "cell_type": "code",
   "execution_count": 130,
   "id": "1583cade",
   "metadata": {
    "tags": []
   },
   "outputs": [],
   "source": [
    "#define connections\n",
    "\n",
    "# collect credentials from Secrets Manager\n",
    "client = boto3.client('secretsmanager')\n",
    "\n",
    "#LLM \n",
    "#get the llm api key\n",
    "#llm variables\n",
    "anthropic_secret_id = \"anthropic\"\n",
    "## llm get credentials from secrets manager\n",
    "response = client.get_secret_value(SecretId=anthropic_secret_id)\n",
    "secrets_credentials = json.loads(response['SecretString'])\n",
    "ANTHROPIC_API_KEY = secrets_credentials['ANTHROPIC_API_KEY']\n",
    "#define large language model here. Make sure to set api keys for the variable ANTHROPIC_API_KEY\n",
    "llm = Anthropic(temperature=0, anthropic_api_key=ANTHROPIC_API_KEY, max_tokens_to_sample = 512)\n",
    "\n",
    "#SNOWFLAKE\n",
    "# connect to snowflake database\n",
    "## snowflake variables\n",
    "sf_account_id =\"bfb23557.us-east-1\"\n",
    "sf_secret_id = \"snowflake-credentials-secret\"\n",
    "dwh = \"compute_wh\"\n",
    "db = \"finance\"\n",
    "schema = \"stockmarket_schema\"\n",
    "table = \"all_stocks_5yr\"\n",
    "## snowflake get credentials from secrets manager\n",
    "response = client.get_secret_value(SecretId=sf_secret_id)\n",
    "secrets_credentials = json.loads(response['SecretString'])\n",
    "sf_password = secrets_credentials['password']\n",
    "sf_username = secrets_credentials['username']\n",
    "##  Create the snowflake connection string\n",
    "connection_string = f\"snowflake://{sf_username}:{sf_password}@{sf_account_id}/{db}/{schema}?warehouse={dwh}\"\n",
    "##  Create the snowflake  SQLAlchemy engine\n",
    "engine_snowflake = create_engine(connection_string, echo=False)\n",
    "dbsnowflake = SQLDatabase(engine_snowflake)\n",
    "\n",
    "#S3\n",
    "# connect to s3 using athena\n",
    "## athena variables\n",
    "connathena='athena.us-east-1.amazonaws.com'\n",
    "portathena='443'\n",
    "schemaathena='sagemaker_featurestore'\n",
    "s3stagingathena='s3://researchanddevelopmentnt'\n",
    "wkgrpathena='primary'\n",
    "tablesathena=['claims']\n",
    "##  Create the athena connection string\n",
    "connection_string = f\"awsathena+rest://@{connathena}:{portathena}/{schemaathena}?s3_staging_dir={s3stagingathena}/&work_group={wkgrpathena}\"\n",
    "##  Create the athena  SQLAlchemy engine\n",
    "engine_athena = create_engine(connection_string, echo=False)\n",
    "dbathena = SQLDatabase(engine_athena, include_tables=tablesathena)\n",
    "\n",
    "#AURORA MYSQL\n",
    "##connect to aurora mysql\n",
    "##aurora mysql cluster details/variables\n",
    "cluster_arn = 'arn:aws:rds:us-east-1:673015835385:cluster:database-3'\n",
    "secret_arn = 'arn:aws:secretsmanager:us-east-1:673015835385:secret:rds-db-credentials/cluster-JKRI452JBDML53IJRZTFC7DBTU/admin/1683665443623-aAR0hN'\n",
    "rdsdb='employees'\n",
    "rdsdb_tbl = ['employees']\n",
    "##  Create the aurora connection string\n",
    "connection_string = f\"mysql+auroradataapi://:@/{rdsdb}\"\n",
    "##  Create the aurora  SQLAlchemy engine\n",
    "engine_rds = create_engine(connection_string, echo=False,connect_args=dict(aurora_cluster_arn=cluster_arn, secret_arn=secret_arn))\n",
    "dbrds = SQLDatabase(engine_rds, include_tables=rdsdb_tbl)\n",
    "\n",
    "#REDSHIFT\n",
    "# connect to redshift database\n",
    "## redshift variables\n",
    "rs_secret_id = \"redshift-serverless\"\n",
    "rs_endpoint='sagemaker.673015835385.us-east-1.redshift-serverless.amazonaws.com'\n",
    "rs_port='5439'\n",
    "rs_db='sample_data_dev'\n",
    "rs_schema='tickit'\n",
    "## redshift get credentials from secrets manager\n",
    "response = client.get_secret_value(SecretId=rs_secret_id)\n",
    "secrets_credentials = json.loads(response['SecretString'])\n",
    "rs_password = secrets_credentials['password']\n",
    "rs_username = secrets_credentials['username']\n",
    "##  Create the redshift connection string\n",
    "# connection_string = f\"redshift+redshift_connector://{rs_username}:{rs_password}@{rs_endpoint}:{rs_port}/{rs_db}\"\n",
    "# engine_redshift = create_engine(connection_string, echo=False)\n",
    "# dbredshift = SQLDatabase(engine_redshift)\n",
    "\n",
    "#Glue Data Catalog\n",
    "##Provide list of all the databases where the table metadata resides after the glue successfully crawls the table\n",
    "gdc = ['redshift-sagemaker-sample-data-dev', 'snowflake','rds-aurora-mysql-employees','sagemaker_featurestore']"
   ]
  },
  {
   "cell_type": "markdown",
   "id": "1ea21757-b08a-438b-a5a7-79d85a9a9085",
   "metadata": {},
   "source": [
    "### Step 2 - Generate Dynamic Prompt Templates\n",
    "Build a consolidated view of Glue Data Catalog by combining metadata stored for all the databases in pipe delimited format."
   ]
  },
  {
   "cell_type": "code",
   "execution_count": 143,
   "id": "08a3373d-9285-4fab-81b5-51e5364590b5",
   "metadata": {
    "scrolled": true,
    "tags": []
   },
   "outputs": [
    {
     "name": "stdout",
     "output_type": "stream",
     "text": [
      "\n",
      "redshift|redshift-sagemaker-sample-data-dev|sample_data_dev_tickit_sales|listid\n",
      "redshift|redshift-sagemaker-sample-data-dev|sample_data_dev_tickit_sales|saletime\n",
      "redshift|redshift-sagemaker-sample-data-dev|sample_data_dev_tickit_sales|eventid\n",
      "redshift|redshift-sagemaker-sample-data-dev|sample_data_dev_tickit_sales|salesid\n",
      "redshift|redshift-sagemaker-sample-data-dev|sample_data_dev_tickit_sales|sellerid\n",
      "redshift|redshift-sagemaker-sample-data-dev|sample_data_dev_tickit_sales|dateid\n",
      "redshift|redshift-sagemaker-sample-data-dev|sample_data_dev_tickit_sales|commission\n",
      "redshift|redshift-sagemaker-sample-data-dev|sample_data_dev_tickit_sales|qtysold\n",
      "redshift|redshift-sagemaker-sample-data-dev|sample_data_dev_tickit_sales|buyerid\n",
      "redshift|redshift-sagemaker-sample-data-dev|sample_data_dev_tickit_sales|pricepaid\n",
      "snowflake|snowflake|finance_stockmarket_schema_all_stocks_5yr|date\n",
      "snowflake|snowflake|finance_stockmarket_schema_all_stocks_5yr|high\n",
      "snowflake|snowflake|finance_stockmarket_schema_all_stocks_5yr|low\n",
      "snowflake|snowflake|finance_stockmarket_schema_all_stocks_5yr|volume\n",
      "snowflake|snowflake|finance_stockmarket_schema_all_stocks_5yr|close\n",
      "snowflake|snowflake|finance_stockmarket_schema_all_stocks_5yr|open\n",
      "snowflake|snowflake|finance_stockmarket_schema_all_stocks_5yr|name\n",
      "mysql|rds-aurora-mysql-employees|employees_employees|gender\n",
      "mysql|rds-aurora-mysql-employees|employees_employees|emp_no\n",
      "mysql|rds-aurora-mysql-employees|employees_employees|birth_date\n",
      "mysql|rds-aurora-mysql-employees|employees_employees|last_name\n",
      "mysql|rds-aurora-mysql-employees|employees_employees|hire_date\n",
      "mysql|rds-aurora-mysql-employees|employees_employees|first_name\n",
      "s3|sagemaker_featurestore|claims|policy_id_0\n",
      "s3|sagemaker_featurestore|claims|incident_severity\n",
      "s3|sagemaker_featurestore|claims|num_vehicles_involved\n",
      "s3|sagemaker_featurestore|claims|num_injuries\n",
      "s3|sagemaker_featurestore|claims|num_witnesses\n",
      "s3|sagemaker_featurestore|claims|police_report_available\n",
      "s3|sagemaker_featurestore|claims|injury_claim\n",
      "s3|sagemaker_featurestore|claims|vehicle_claim\n",
      "s3|sagemaker_featurestore|claims|total_claim_amount\n",
      "s3|sagemaker_featurestore|claims|incident_month\n",
      "s3|sagemaker_featurestore|claims|incident_day\n",
      "s3|sagemaker_featurestore|claims|incident_dow\n",
      "s3|sagemaker_featurestore|claims|incident_hour\n",
      "s3|sagemaker_featurestore|claims|fraud\n",
      "s3|sagemaker_featurestore|claims|driver_relationship_self\n",
      "s3|sagemaker_featurestore|claims|driver_relationship_na\n",
      "s3|sagemaker_featurestore|claims|driver_relationship_spouse\n",
      "s3|sagemaker_featurestore|claims|driver_relationship_child\n",
      "s3|sagemaker_featurestore|claims|driver_relationship_other\n",
      "s3|sagemaker_featurestore|claims|incident_type_collision\n",
      "s3|sagemaker_featurestore|claims|incident_type_break-in\n",
      "s3|sagemaker_featurestore|claims|incident_type_theft\n",
      "s3|sagemaker_featurestore|claims|collision_type_front\n",
      "s3|sagemaker_featurestore|claims|collision_type_rear\n",
      "s3|sagemaker_featurestore|claims|collision_type_side\n",
      "s3|sagemaker_featurestore|claims|collision_type_na\n",
      "s3|sagemaker_featurestore|claims|authorities_contacted_police\n",
      "s3|sagemaker_featurestore|claims|authorities_contacted_none\n",
      "s3|sagemaker_featurestore|claims|authorities_contacted_ambulance\n",
      "s3|sagemaker_featurestore|claims|authorities_contacted_fire\n",
      "s3|sagemaker_featurestore|claims|policy_id_1\n",
      "s3|sagemaker_featurestore|claims|customer_age\n",
      "s3|sagemaker_featurestore|claims|months_as_customer\n",
      "s3|sagemaker_featurestore|claims|num_claims_past_year\n",
      "s3|sagemaker_featurestore|claims|num_insurers_past_5_years\n",
      "s3|sagemaker_featurestore|claims|policy_deductable\n",
      "s3|sagemaker_featurestore|claims|policy_annual_premium\n",
      "s3|sagemaker_featurestore|claims|policy_liability\n",
      "s3|sagemaker_featurestore|claims|customer_education\n",
      "s3|sagemaker_featurestore|claims|auto_year\n",
      "s3|sagemaker_featurestore|claims|policy_state_ca\n",
      "s3|sagemaker_featurestore|claims|policy_state_wa\n",
      "s3|sagemaker_featurestore|claims|policy_state_az\n",
      "s3|sagemaker_featurestore|claims|policy_state_or\n",
      "s3|sagemaker_featurestore|claims|policy_state_nv\n",
      "s3|sagemaker_featurestore|claims|policy_state_id\n",
      "s3|sagemaker_featurestore|claims|customer_gender_male\n",
      "s3|sagemaker_featurestore|claims|customer_gender_female\n",
      "s3|sagemaker_featurestore|claims|customer_gender_unkown\n",
      "s3|sagemaker_featurestore|claims|customer_gender_other\n",
      "s3|sagemaker_featurestore|claims|eventtime\n",
      "s3|sagemaker_featurestore|claims|write_time\n",
      "s3|sagemaker_featurestore|claims|api_invocation_time\n",
      "s3|sagemaker_featurestore|claims|is_deleted\n",
      "api|meteo|weather|weather\n"
     ]
    }
   ],
   "source": [
    "#Generate Dynamic prompts to populate the Glue Data Catalog\n",
    "#harvest aws crawler metadata\n",
    "\n",
    "def parse_catalog():\n",
    "    #Connect to Glue catalog\n",
    "    #get metadata of redshift serverless tables\n",
    "    columns_str=''\n",
    "\n",
    "    for db in gdc:\n",
    "        response = glue_client.get_tables(DatabaseName =db)\n",
    "        for tables in response['TableList']:\n",
    "            #classification in the response for s3 and other databases is different. Set classification based on the response location\n",
    "            if tables['StorageDescriptor']['Location'].startswith('s3'):  classification='s3' \n",
    "            else:  classification = tables['Parameters']['classification']\n",
    "            for columns in tables['StorageDescriptor']['Columns']:\n",
    "                    dbname,tblname,colname=tables['DatabaseName'],tables['Name'],columns['Name']\n",
    "                    columns_str=columns_str+f'\\n{classification}|{dbname}|{tblname}|{colname}'                     \n",
    "    #API\n",
    "    ## Append the metadata of the API to the unified glue data catalog\n",
    "    columns_str=columns_str+'\\n'+('api|meteo|weather|weather')\n",
    "    return columns_str\n",
    "\n",
    "glue_catalog = parse_catalog()\n",
    "print(glue_catalog)"
   ]
  },
  {
   "cell_type": "markdown",
   "id": "a94e6770-42c3-402b-a60e-9c21fb99d5f6",
   "metadata": {
    "tags": []
   },
   "source": [
    "### Step 3 - Enter User Query and determine the best data channel to answer the user query.\n",
    "\n",
    "Some samples are provided below for test runs. Uncomment the query to run."
   ]
  },
  {
   "cell_type": "code",
   "execution_count": 167,
   "id": "f82599a2",
   "metadata": {
    "tags": []
   },
   "outputs": [],
   "source": [
    "# Enter the query\n",
    "#snowflake - Finance and Investments\n",
    "query = \"\"\"Which stock performed the best and the worst in May of 2013?\"\"\"\n",
    "# query = \"\"\"What is the average volume stocks traded  in July of 2013?\"\"\"\n",
    "\n",
    "#rds - Human Resources\n",
    "# query = \"\"\"Name all employees with birth date this month\"\"\" \n",
    "# query = \"\"\"Combien d'employés sont des femmes? \"\"\" #Ask question in French - How  many females are there?\n",
    "# query = \"\"\"How many employees were hired before 1990?\"\"\"  \n",
    "\n",
    "#athena - Legal - SageMaker offline featurestore\n",
    "# query = \"\"\"How many frauds happened in the year 2023 ?\"\"\"  \n",
    "# query = \"\"\"How many policies were claimed this year ?\"\"\" \n",
    "\n",
    "#redshift - Sales & Marketing\n",
    "# query = \"\"\"How many tickit sales are there\"\"\" \n",
    "# query = \"what was the total commision for the tickit sales in the year 2008?\" \n",
    "\n",
    "#api - product - weather\n",
    "# query = \"\"\"What is the weather like right now in New York City in degrees Farenheit?\"\"\""
   ]
  },
  {
   "cell_type": "code",
   "execution_count": 168,
   "id": "4efcc59b",
   "metadata": {
    "tags": []
   },
   "outputs": [
    {
     "name": "stdout",
     "output_type": "stream",
     "text": [
      "\n",
      "database == snowflake\n",
      "database.table == snowflake.finance_stockmarket_schema_all_stocks_5yr\n",
      "SET database to snowflake\n",
      "Step complete. Channel is:  db\n"
     ]
    }
   ],
   "source": [
    "#set prompt template. It instructs the llm on how to evaluate and respond to the llm. It is referred to as dynamic since glue data catalog is first getting generated and appended to the prompt.\n",
    "prompt_template = \"\"\"\n",
    "     From the table below, find the database (in column database) which will contain the data (in corresponding column_names) to answer the question \n",
    "     {query} \\n\n",
    "     \"\"\"+glue_catalog +\"\"\" \n",
    "Give your answer as database == \n",
    "Also,give your answer as database.table == \n",
    "\"\"\"\n",
    "\n",
    "PROMPT = PromptTemplate(\n",
    "      template=prompt_template, input_variables=[\"query\"]\n",
    "  )\n",
    "\n",
    "# define llm chain\n",
    "llm_chain = LLMChain(prompt=PROMPT, llm=llm)\n",
    "\n",
    "#run the query and save to generated texts\n",
    "generated_texts = llm_chain.run(query)\n",
    "\n",
    "print(generated_texts)\n",
    "\n",
    "#set the best channel from where the query can be answered\n",
    "if 'snowflake' in generated_texts: \n",
    "        channel='db'\n",
    "        db=dbsnowflake \n",
    "        print(\"SET database to snowflake\")  \n",
    "elif 'redshift'  in generated_texts: \n",
    "        channel='db'\n",
    "        db=dbredshift\n",
    "        print(\"SET database to redshift\")\n",
    "elif 's3' in generated_texts: \n",
    "        channel='db'\n",
    "        db=dbathena\n",
    "        print(\"SET database to athena\")\n",
    "elif 'rdsmysql' in generated_texts: \n",
    "        channel='db'\n",
    "        db=dbrds\n",
    "        print(\"SET database to rds\")    \n",
    "elif 'api' in generated_texts: \n",
    "        channel='api'\n",
    "        print(\"SET database to weather api\")        \n",
    "else: raise Exception(\"User question cannot be answered by any of the channels mentioned in the catalog\")\n",
    "print(\"Step complete. Channel is: \", channel)"
   ]
  },
  {
   "cell_type": "markdown",
   "id": "db139e43-59cc-4fc6-8126-569f97307a8f",
   "metadata": {
    "tags": []
   },
   "source": [
    "### Step 4 - Run the Langchain SQL Database chain to convert 'text to sql' and run the query against the source data channel"
   ]
  },
  {
   "cell_type": "code",
   "execution_count": 169,
   "id": "53c68ea4",
   "metadata": {
    "tags": []
   },
   "outputs": [
    {
     "name": "stdout",
     "output_type": "stream",
     "text": [
      "\n",
      "\n",
      "\u001b[1m> Entering new SQLDatabaseChain chain...\u001b[0m\n",
      "Which stock performed the best and the worst in May of 2013?\n",
      "SQLQuery:\u001b[32;1m\u001b[1;3m\n",
      "SELECT name, MAX(close) AS max_close, MIN(close) AS min_close \n",
      "FROM all_stocks_5yr\n",
      "WHERE date BETWEEN '2013-05-01' AND '2013-05-31'\n",
      "GROUP BY name\n",
      "ORDER BY max_close DESC, min_close ASC\n",
      "\u001b[0m\n",
      "SQLResult: \u001b[33;1m\u001b[1;3m[('PCLN', 842.5, 694.06), ('GOOGL', 458.4029, 410.6252), ('AZO', 427.84, 407.58), ('CMG', 377.43, 361.0), ('BLK', 291.69, 260.94), ('REGN', 282.8, 237.29), ('AMZN', 269.9, 248.23), ('GWW', 267.34, 240.9), ('BIIB', 240.86, 209.28), ('EQIX', 229.67, 202.64), ('MTD', 228.0, 202.6), ('IBM', 209.36, 199.63), ('SHW', 193.56, 181.1), ('RL', 189.56, 175.09), ('ADS', 183.03, 170.44), ('SPG', 180.34, 166.44), ('ESS', 170.47, 154.77), ('ISRG', 168.5998, 156.7665), ('PSA', 167.72, 151.8), ('AMG', 167.3, 150.72), ('GS', 164.35, 142.61), ('TDG', 154.69, 146.1), ('PXD', 145.24, 118.97), ('WYNN', 143.11, 135.89), ('AVB', 141.46, 129.79), ('RE', 135.97, 126.55), ('WHR', 130.97, 112.9), ('AGN', 130.2, 104.39), ('CVX', 126.43, 120.27), ('ROP', 126.33, 118.12), ('PRGO', 121.05, 115.84), ('PVH', 120.28, 114.51), ('CMI', 119.63, 103.66), ('MHK', 119.53, 108.16), ('MCK', 118.41, 105.75), ('FRT', 117.96, 107.75), ('KSU', 117.16, 103.82), ('PX', 116.22, 113.11), ('COO', 116.0, 107.12), ('BRK.B', 114.84, 106.12), ('COST', 114.83, 108.22), ('BXP', 114.59, 106.58), ('CHTR', 114.53, 101.17), ('SRCL', 113.01, 107.76), ('ORLY', 112.21, 107.46), ('MLM', 112.09, 99.46), ('MMM', 112.01, 104.55), ('MON', 109.22, 100.64), ('AMGN', 107.94, 100.53), ('ALXN', 107.86, 96.2), ('LMT', 107.75, 99.35), ('MTB', 106.25, 99.54), ('KMB', 105.38, 96.83), ('SJM', 104.53, 100.96), ('MCD', 102.92, 96.57), ('FDX', 102.17, 92.0), ('BDX', 101.92, 93.58), ('PH', 100.96, 87.2), ('LH', 100.96, 92.52), ('BA', 100.54, 91.18), ('WAT', 99.27, 92.38), ('UTX', 97.55, 91.05), ('PM', 96.3, 90.91), ('APD', 95.12, 85.69), ('ULTA', 94.88, 86.56), ('OXY', 94.75, 87.55), ('SLG', 94.21, 86.98), ('DE', 93.77, 86.29), ('SNA', 92.92, 84.36), ('XOM', 92.8, 87.51), ('CB', 92.67, 88.3), ('APC', 91.46, 83.23), ('ROK', 90.95, 82.32), ('HSY', 90.45, 87.75), ('CAT', 90.31, 83.08), ('ECL', 89.14, 84.25), ('UPS', 89.03, 84.82), ('TMO', 88.76, 80.72), ('JNJ', 88.59, 84.18), ('VNO', 88.15, 79.95), ('CLX', 88.11, 83.08), ('TRV', 87.9, 83.22), ('LLL', 87.37, 81.0), ('AAP', 87.18, 81.52), ('APA', 84.75, 73.42), ('AMT', 84.64, 77.84), ('SRE', 84.6, 79.47), ('CXO', 84.33, 80.14), ('PEP', 84.25, 80.77), ('FFIV', 84.12, 74.12), ('AMP', 83.94, 72.96), ('NOC', 83.49, 75.65), ('VRTX', 83.14, 75.43), ('ACN', 83.09, 78.82), ('HUM', 83.03, 73.93), ('VTR', 82.93, 71.37), ('GPC', 82.64, 74.62), ('IFF', 82.42, 76.21), ('PG', 81.88, 76.76), ('SWK', 81.84, 74.36), ('NEE', 81.75, 75.62), ('EQT', 81.43, 74.4), ('ZBH', 81.01, 75.3), ('SBAC', 80.85, 75.27), ('DISCA', 80.8, 76.94), ('HON', 80.75, 72.53), ('NSC', 80.36, 75.2), ('UNP', 79.955, 72.835), ('ANSS', 79.95, 72.58), ('WMT', 79.86, 74.84), ('HD', 79.82, 72.76), ('CCI', 79.77, 71.25), ('DOV', 79.54, 68.03), ('PPG', 79.47, 72.6), ('ANTM', 79.38, 72.27), ('TIF', 79.22, 73.57), ('HCN', 78.98, 68.03), ('TROW', 78.62, 71.71), ('RRC', 78.61, 71.85), ('GD', 78.6, 73.78), ('ARE', 78.09, 68.5), ('SLB', 77.59, 73.03), ('AYI', 77.53, 70.58), ('AXP', 76.16, 68.28), ('JBHT', 75.91, 69.43), ('XEC', 75.0, 68.76), ('DUK', 74.89, 66.93), ('MKC', 74.76, 69.08), ('MAA', 74.41, 67.97), ('EMN', 73.95, 64.06), ('ILMN', 73.08, 63.82), ('BAX', 73.04, 68.58), ('HES', 73.0, 67.41), ('PNC', 72.88, 67.17), ('DTE', 72.6, 66.26), ('ADP', 71.99, 66.82), ('DISCK', 71.86, 69.71), ('EL', 71.8, 67.78), ('SIG', 71.63, 68.03), ('NOV', 71.57, 65.09), ('ETR', 71.57, 67.0), ('TGT', 71.26, 68.4), ('ITW', 71.16, 63.87), ('MAC', 70.84, 64.91), ('YUM', 70.46, 67.6), ('UHS', 70.25, 65.31), ('VAR', 70.23, 64.2), ('PRU', 70.01, 59.28), ('SNI', 70.01, 66.8), ('DLR', 69.86, 60.91), ('CME', 69.78, 60.13), ('CI', 69.75, 65.38), ('VIAB', 69.72, 65.89), ('SYK', 69.43, 65.3), ('ALB', 69.0, 59.13), ('EOG', 68.95, 59.415), ('ETN', 68.88, 59.27), ('MCO', 68.62, 60.55), ('RTN', 67.75, 61.66), ('DIS', 67.67, 63.08), ('LYB', 67.32, 57.54), ('STT', 67.19, 57.47), ('PSX', 66.84, 59.67), ('CTXS', 66.84, 62.21), ('COL', 66.79, 62.44), ('QCOM', 66.61, 61.92), ('AON', 66.44, 61.3), ('FLR', 66.28, 56.15), ('AAPL', 66.2628, 61.2642), ('K', 65.9, 62.05), ('KORS', 65.68, 56.5), ('DVA', 65.595, 58.66), ('HP', 65.5, 58.09), ('CELG', 65.085, 58.33), ('ANDV', 64.9, 50.87), ('WYN', 64.68, 58.12), ('UNH', 64.66, 58.92), ('TRIP', 64.49, 51.99), ('FMC', 64.48, 58.37), ('COP', 64.31, 60.01), ('MOS', 64.3, 59.29), ('DHR', 64.07, 60.14), ('EFX', 63.81, 60.9), ('WDC', 63.79, 54.8), ('OMC', 63.79, 59.3), ('ED', 63.66, 57.07), ('ESRX', 63.6, 59.63), ('DGX', 62.76, 56.37), ('AET', 62.45, 58.25), ('COF', 62.43, 57.35), ('CL', 62.38, 57.84), ('CHRW', 61.56, 56.0), ('TWX', 61.52, 58.37), ('PNW', 61.48, 55.96), ('JWN', 61.44, 56.15), ('NBL', 61.25, 55.41), ('D', 61.17, 56.55), ('VRSK', 61.02, 58.82), ('EXPE', 60.762, 55.1), ('EQR', 60.75, 56.02), ('INTU', 60.75, 57.89), ('CVS', 60.35, 57.49), ('DVN', 60.17, 55.24), ('TPR', 59.6, 57.33), ('URI', 59.52, 50.83), ('HOG', 59.48, 54.01), ('EMR', 59.36, 54.3), ('REG', 59.2, 51.6), ('NTRS', 58.84, 53.18), ('FTI', 58.73, 53.76), ('PNR', 58.64, 53.25), ('MSI', 58.54, 56.17), ('IT', 58.51, 55.58), ('MA', 58.485, 53.982), ('IR', 58.14, 52.23), ('TSCO', 57.47, 52.665), ('FLS', 57.2966, 50.4399), ('JEC', 57.16, 49.02), ('LLY', 56.72, 53.16), ('EBAY', 56.71, 52.4), ('AFL', 56.52, 53.84), ('KLAC', 56.51, 53.59), ('GILD', 56.47, 50.14), ('BEN', 56.1066, 51.0033), ('HII', 56.0, 51.93), ('SPGI', 55.92, 53.45), ('JPM', 55.62, 47.57), ('HCP', 55.28, 47.38), ('ABC', 55.1, 53.84), ('O', 55.09, 45.45), ('VMC', 55.08, 48.38), ('RHT', 54.99, 47.73), ('PCAR', 54.63, 49.53), ('DG', 54.48, 52.03), ('STZ', 54.36, 48.8), ('SCG', 53.91, 50.43), ('DRI', 53.91, 51.69), ('VZ', 53.6, 48.48), ('TAP', 53.32, 49.41), ('C', 53.27, 45.87), ('LB', 53.21, 48.89), ('EIX', 52.53, 45.94), ('KSS', 52.35, 46.6), ('MDT', 52.35, 46.65), ('FAST', 52.18, 47.86), ('TJX', 51.72, 48.36), ('CBS', 51.53, 46.4), ('HRS', 51.23, 45.22), ('AEP', 51.23, 45.82), ('RMD', 51.17, 47.4), ('GIS', 50.93, 47.08), ('WBA', 50.77, 47.76), ('ALL', 50.66, 48.24), ('AIZ', 50.6, 47.34), ('DLTR', 50.56, 47.81), ('PKG', 50.39, 46.73), ('DPS', 50.36, 45.98), ('CINF', 50.35, 47.34), ('M', 49.43, 44.7), ('CERN', 49.415, 47.025), ('OKE', 49.41, 45.14), ('VRSN', 49.27, 46.26), ('DFS', 48.86, 43.85), ('IP', 48.68, 44.27), ('KMX', 48.67, 45.2), ('HAS', 48.46, 44.445), ('HSIC', 48.25, 44.75), ('LRCX', 48.18, 45.6), ('CPB', 48.14, 42.81), ('AKAM', 48.03, 43.64), ('CAH', 48.02, 43.94), ('SO', 47.84, 43.9), ('BMY', 47.68, 39.68), ('PCG', 47.66, 44.82), ('MRK', 47.62, 44.98), ('ABBV', 47.17, 42.69), ('NUE', 47.1, 42.93), ('ADI', 47.02, 43.88), ('CRM', 47.01, 41.56), ('ADBE', 47.01, 42.43), ('MAT', 46.79, 44.75), ('A', 46.75, 41.31), ('L', 46.71, 44.73), ('FE', 46.28, 39.01), ('AIG', 46.21, 41.19), ('V', 46.1425, 41.505), ('TEL', 46.09, 42.72), ('CTAS', 45.9, 44.22), ('IQV', 45.85, 42.11), ('FIS', 45.8, 42.1), ('RJF', 45.72, 40.29), ('AJG', 45.58, 42.54), ('HAL', 45.55, 41.85), ('FISV', 45.295, 43.15), ('ES', 45.27, 41.67), ('EXR', 44.95, 41.89), ('PLD', 44.77, 40.3), ('WEC', 44.53, 40.81), ('AVY', 44.46, 40.69), ('IDXX', 44.385, 41.22), ('MET', 44.34, 38.4), ('VFC', 44.3214, 41.75), ('XRAY', 44.2, 41.15), ('MAR', 43.97, 42.01), ('STX', 43.76, 36.94), ('AME', 43.69, 39.82), ('TMK', 43.5934, 40.8734), ('FBHS', 43.54, 36.26), ('LOW', 43.23, 38.18), ('KO', 43.09, 39.99), ('LEN', 43.0196, 38.549), ('WM', 42.75, 40.55), ('AWK', 42.74, 39.94), ('BWA', 42.675, 38.81), ('MPC', 42.3, 36.735), ('VLO', 42.09, 36.98), ('GPS', 41.67, 37.57), ('APH', 41.645, 37.765), ('HCA', 41.4, 37.29), ('MMC', 41.4, 37.83), ('XLNX', 41.325, 37.61), ('WFC', 41.25, 37.41), ('KMI', 41.09, 37.98), ('CBOE', 40.81, 37.3), ('DISH', 40.78, 38.54), ('CMA', 40.15, 35.78), ('EXPD', 40.14, 35.32), ('ADSK', 39.98, 36.08), ('PDCO', 39.7, 37.67), ('IRM', 39.54, 35.84), ('CF', 38.998, 36.688), ('PAYX', 38.65, 36.3), ('ABT', 38.56, 35.85), ('PFG', 38.51, 35.62), ('NTAP', 38.46, 33.87), ('ALGN', 38.16, 32.4), ('RCL', 38.08, 35.01), ('WMB', 37.88, 35.18), ('CTL', 37.85, 34.15), ('T', 37.83, 34.99), ('AVGO', 37.82, 31.32), ('MCHP', 37.63, 36.1), ('MO', 37.46, 36.08), ('TXN', 37.09, 35.91), ('FL', 36.92, 33.9), ('NLSN', 36.91, 33.89), ('GRMN', 36.88, 33.68), ('EXC', 36.75, 31.34), ('SNPS', 36.63, 34.97), ('PEG', 36.59, 33.04), ('AEE', 36.55, 33.73), ('BF.B', 36.495, 34.41), ('MRO', 36.38, 31.89), ('LNC', 36.36, 31.98), ('COG', 36.245, 33.085), ('CAG', 36.16, 33.69), ('JCI', 36.1256, 32.9843), ('RHI', 36.1, 31.33), ('XRX', 36.08, 33.32), ('EW', 35.785, 31.27), ('CCL', 35.61, 32.88), ('USB', 35.54, 32.58), ('ICE', 35.488, 33.312), ('SYY', 35.14, 33.8), ('ORCL', 35.1, 33.16), ('RSG', 35.09, 33.79), ('MSFT', 35.08, 32.66), ('ADM', 35.0, 32.23), ('NFLX', 34.7714, 29.4643), ('UAL', 34.75, 32.01), ('GM', 34.64, 30.18), ('IVZ', 34.64, 31.44), ('NEM', 34.34, 30.63), ('ZTS', 34.26, 32.0), ('CTSH', 34.225, 31.195), ('LEG', 34.19, 31.57), ('ALK', 33.735, 27.975), ('BBT', 33.46, 30.35), ('PPL', 33.26, 29.7), ('ROST', 33.25, 32.159), ('AIV', 33.2, 30.22), ('NKE', 32.955, 30.83), ('FCX', 32.88, 30.34), ('XL', 32.71, 30.8), ('PKI', 32.69, 30.55), ('STI', 32.6, 28.94), ('WY', 32.6, 29.66), ('CHD', 32.32, 30.405), ('LUK', 32.2, 30.58), ('NDAQ', 32.15, 29.25), ('NCLH', 32.15, 30.46), ('SBUX', 32.13, 30.07), ('MDLZ', 31.77, 29.475), ('MYL', 31.75, 28.7), ('XEL', 31.44, 28.65), ('HIG', 31.43, 27.76), ('NI', 30.61, 28.5), ('BK', 30.55, 27.7), ('PWR', 30.29, 27.02), ('HRB', 29.68, 27.53), ('PFE', 29.56, 27.23), ('CMS', 29.45, 26.95), ('FB', 28.97, 23.32), ('UNM', 28.95, 27.17), ('XYL', 28.93, 27.36), ('ZION', 28.6, 24.18), ('TXT', 28.25, 24.88), ('NWL', 28.21, 26.1), ('NRG', 28.18, 25.52), ('CA', 27.77, 26.8), ('BBY', 27.74, 25.31), ('DHI', 27.6, 24.36), ('UDR', 26.82, 24.31), ('LNT', 26.615, 24.63), ('ARNC', 26.61, 25.29), ('PGR', 26.32, 25.05), ('CSX', 26.14, 24.07), ('CNC', 26.075, 23.2), ('MS', 25.9, 21.85), ('LKQ', 25.68, 23.83), ('TSN', 25.49, 24.1), ('CBG', 25.18, 23.18), ('SYMC', 25.1, 22.39), ('KIM', 25.0, 22.15), ('NFX', 24.89, 21.71), ('FLIR', 24.84, 24.1), ('INTC', 24.5, 23.84), ('INCY', 24.49, 21.47), ('CNP', 24.41, 23.04), ('CSCO', 24.37, 20.38), ('SEE', 24.37, 21.77), ('GPN', 24.35, 23.28), ('PHM', 24.25, 20.9), ('TSS', 24.24, 23.5), ('SWKS', 23.95, 21.57), ('GE', 23.86, 22.15), ('EA', 23.35, 17.3), ('GGP', 23.33, 20.53), ('BLL', 23.145, 21.58), ('MAS', 22.74, 20.11), ('CHK', 22.58, 19.13), ('CMCSA', 21.8645, 20.0825), ('HRL', 21.515, 19.91), ('HOLX', 21.36, 19.92), ('SCHW', 20.16, 16.21), ('AOS', 19.975, 18.345), ('MNST', 19.2666, 17.9433), ('AAL', 19.12, 16.6), ('DAL', 18.96, 16.84), ('HST', 18.77, 17.79), ('DRE', 18.71, 16.57), ('FITB', 18.53, 16.75), ('JNPR', 18.01, 16.3), ('KR', 17.71, 16.835), ('WU', 16.71, 15.53), ('GLW', 16.31, 14.33), ('UAA', 16.075, 14.09), ('F', 15.9, 13.38), ('MGM', 15.86, 13.8), ('GT', 15.82, 12.2), ('ATVI', 15.75, 14.39), ('AMAT', 15.25, 14.47), ('CDNS', 15.15, 13.72), ('IPG', 14.94, 13.58), ('NVDA', 14.92, 13.65), ('LUV', 14.38, 13.48), ('PBCT', 14.24, 13.08), ('AES', 13.96, 12.2), ('BAC', 13.83, 12.14), ('HBI', 12.885, 12.2725), ('MU', 11.89, 9.2), ('ETFC', 11.795, 10.08), ('KEY', 10.86, 9.88), ('RF', 9.38, 8.43), ('BSX', 9.27, 7.49), ('HBAN', 7.89, 7.06), ('AMD', 4.38, 3.22)]\u001b[0m\n",
      "Answer:\u001b[32;1m\u001b[1;3m\n",
      "SELECT name, MAX(close) AS max_close, MIN(close) AS min_close \n",
      "FROM all_stocks_5yr\n",
      "WHERE date BETWEEN '2013-05-01' AND '2013-05-31'\n",
      "GROUP BY name\n",
      "ORDER BY max_close DESC, min_close ASC\n",
      "\n",
      "The stocks with the highest and lowest closing prices in May 2013 were Priceline (PCLN) at $842.50 and Advanced Micro Devices (AMD) at $3.22, respectively.\u001b[0m\n",
      "\u001b[1m> Finished chain.\u001b[0m\n"
     ]
    }
   ],
   "source": [
    "#after determining the data channel, run the Langchain SQL Database chain to convert 'text to sql' and run the query against the source data channel. \n",
    "#provide rules for running the SQL queries in default template--> table info.\n",
    "\n",
    "_DEFAULT_TEMPLATE = \"\"\"Given an input question, first create a syntactically correct {dialect} query to run, then look at the results of the query and return the answer.\n",
    "\n",
    "Remove 'Query:' from SQLQuery. \n",
    "Display SQLResult after the query is run in plain english that users can understand. \n",
    "\n",
    "Only use the following tables:\n",
    "\n",
    "{table_info}\n",
    "If someone asks for the sales, they really mean the tickit.sales table.\n",
    "If someone asks for the sales date, they really mean the column tickit.sales.saletime.\n",
    "\n",
    "Question: {input}\"\"\"\n",
    "\n",
    "PROMPT = PromptTemplate(\n",
    "    input_variables=[\"input\", \"table_info\", \"dialect\"], template=_DEFAULT_TEMPLATE\n",
    ")\n",
    "# print(PROMPT)\n",
    "\n",
    "if channel=='db':\n",
    "    db_chain = SQLDatabaseChain.from_llm(llm, db, prompt=PROMPT, verbose=True, return_intermediate_steps=False)\n",
    "    response=db_chain.run(query)\n",
    "elif channel=='api':\n",
    "    chain_api = APIChain.from_llm_and_api_docs(llm, open_meteo_docs.OPEN_METEO_DOCS, verbose=True)\n",
    "    response=chain_api.run(query)\n",
    "else: raise Exception(\"Unlisted channel. Check your unified catalog\")"
   ]
  },
  {
   "cell_type": "code",
   "execution_count": 151,
   "id": "7283b0bc-a43e-430f-9949-ca21392c339b",
   "metadata": {
    "tags": []
   },
   "outputs": [
    {
     "name": "stdout",
     "output_type": "stream",
     "text": [
      "\n",
      "SELECT name, MAX(close) AS max_close, MIN(close) AS min_close \n",
      "FROM all_stocks_5yr\n",
      "WHERE date BETWEEN '2013-05-01' AND '2013-05-31'\n",
      "GROUP BY name\n",
      "ORDER BY max_close DESC, min_close ASC\n",
      "\n",
      "The stocks with the highest and lowest closing prices in May 2013 were Priceline (PCLN) at $842.50 and Advanced Micro Devices (AMD) at $3.22, respectively.\n"
     ]
    }
   ],
   "source": [
    "print(response)"
   ]
  },
  {
   "cell_type": "markdown",
   "id": "69371bdc-537f-4e5e-a004-99d852097862",
   "metadata": {},
   "source": [
    "### Clean-up\n",
    "After you run the data mesh architecture with Generative AI, make sure to clean up any resources that won’t be utilized. Shutdown and delete the databases used (Amazon Redshift, Amazon RDS, Snowflake). In addition, delete the data in Amazon S3 and make sure to stop any SageMaker Studio notebook instances to not incur any further charges. If you used SageMaker Jumpstart to deploy large language model as SageMaker Real-time Endpoint, delete endpoint either through SageMaker console, or through Studio. \n"
   ]
  },
  {
   "cell_type": "code",
   "execution_count": null,
   "id": "b6ce1e8d-c26c-47e3-b9b4-ca5ba4a52760",
   "metadata": {},
   "outputs": [],
   "source": []
  },
  {
   "cell_type": "code",
   "execution_count": null,
   "id": "d20d94e0-7610-474d-a051-61f42acc6b41",
   "metadata": {},
   "outputs": [],
   "source": []
  },
  {
   "cell_type": "code",
   "execution_count": null,
   "id": "72f1e757-dce3-41bf-8df9-12abfb348852",
   "metadata": {},
   "outputs": [],
   "source": []
  },
  {
   "cell_type": "code",
   "execution_count": null,
   "id": "927c0aaa-fdab-4615-8a08-ffb90f89d506",
   "metadata": {},
   "outputs": [],
   "source": []
  }
 ],
 "metadata": {
  "availableInstances": [
   {
    "_defaultOrder": 0,
    "_isFastLaunch": true,
    "category": "General purpose",
    "gpuNum": 0,
    "hideHardwareSpecs": false,
    "memoryGiB": 4,
    "name": "ml.t3.medium",
    "vcpuNum": 2
   },
   {
    "_defaultOrder": 1,
    "_isFastLaunch": false,
    "category": "General purpose",
    "gpuNum": 0,
    "hideHardwareSpecs": false,
    "memoryGiB": 8,
    "name": "ml.t3.large",
    "vcpuNum": 2
   },
   {
    "_defaultOrder": 2,
    "_isFastLaunch": false,
    "category": "General purpose",
    "gpuNum": 0,
    "hideHardwareSpecs": false,
    "memoryGiB": 16,
    "name": "ml.t3.xlarge",
    "vcpuNum": 4
   },
   {
    "_defaultOrder": 3,
    "_isFastLaunch": false,
    "category": "General purpose",
    "gpuNum": 0,
    "hideHardwareSpecs": false,
    "memoryGiB": 32,
    "name": "ml.t3.2xlarge",
    "vcpuNum": 8
   },
   {
    "_defaultOrder": 4,
    "_isFastLaunch": true,
    "category": "General purpose",
    "gpuNum": 0,
    "hideHardwareSpecs": false,
    "memoryGiB": 8,
    "name": "ml.m5.large",
    "vcpuNum": 2
   },
   {
    "_defaultOrder": 5,
    "_isFastLaunch": false,
    "category": "General purpose",
    "gpuNum": 0,
    "hideHardwareSpecs": false,
    "memoryGiB": 16,
    "name": "ml.m5.xlarge",
    "vcpuNum": 4
   },
   {
    "_defaultOrder": 6,
    "_isFastLaunch": false,
    "category": "General purpose",
    "gpuNum": 0,
    "hideHardwareSpecs": false,
    "memoryGiB": 32,
    "name": "ml.m5.2xlarge",
    "vcpuNum": 8
   },
   {
    "_defaultOrder": 7,
    "_isFastLaunch": false,
    "category": "General purpose",
    "gpuNum": 0,
    "hideHardwareSpecs": false,
    "memoryGiB": 64,
    "name": "ml.m5.4xlarge",
    "vcpuNum": 16
   },
   {
    "_defaultOrder": 8,
    "_isFastLaunch": false,
    "category": "General purpose",
    "gpuNum": 0,
    "hideHardwareSpecs": false,
    "memoryGiB": 128,
    "name": "ml.m5.8xlarge",
    "vcpuNum": 32
   },
   {
    "_defaultOrder": 9,
    "_isFastLaunch": false,
    "category": "General purpose",
    "gpuNum": 0,
    "hideHardwareSpecs": false,
    "memoryGiB": 192,
    "name": "ml.m5.12xlarge",
    "vcpuNum": 48
   },
   {
    "_defaultOrder": 10,
    "_isFastLaunch": false,
    "category": "General purpose",
    "gpuNum": 0,
    "hideHardwareSpecs": false,
    "memoryGiB": 256,
    "name": "ml.m5.16xlarge",
    "vcpuNum": 64
   },
   {
    "_defaultOrder": 11,
    "_isFastLaunch": false,
    "category": "General purpose",
    "gpuNum": 0,
    "hideHardwareSpecs": false,
    "memoryGiB": 384,
    "name": "ml.m5.24xlarge",
    "vcpuNum": 96
   },
   {
    "_defaultOrder": 12,
    "_isFastLaunch": false,
    "category": "General purpose",
    "gpuNum": 0,
    "hideHardwareSpecs": false,
    "memoryGiB": 8,
    "name": "ml.m5d.large",
    "vcpuNum": 2
   },
   {
    "_defaultOrder": 13,
    "_isFastLaunch": false,
    "category": "General purpose",
    "gpuNum": 0,
    "hideHardwareSpecs": false,
    "memoryGiB": 16,
    "name": "ml.m5d.xlarge",
    "vcpuNum": 4
   },
   {
    "_defaultOrder": 14,
    "_isFastLaunch": false,
    "category": "General purpose",
    "gpuNum": 0,
    "hideHardwareSpecs": false,
    "memoryGiB": 32,
    "name": "ml.m5d.2xlarge",
    "vcpuNum": 8
   },
   {
    "_defaultOrder": 15,
    "_isFastLaunch": false,
    "category": "General purpose",
    "gpuNum": 0,
    "hideHardwareSpecs": false,
    "memoryGiB": 64,
    "name": "ml.m5d.4xlarge",
    "vcpuNum": 16
   },
   {
    "_defaultOrder": 16,
    "_isFastLaunch": false,
    "category": "General purpose",
    "gpuNum": 0,
    "hideHardwareSpecs": false,
    "memoryGiB": 128,
    "name": "ml.m5d.8xlarge",
    "vcpuNum": 32
   },
   {
    "_defaultOrder": 17,
    "_isFastLaunch": false,
    "category": "General purpose",
    "gpuNum": 0,
    "hideHardwareSpecs": false,
    "memoryGiB": 192,
    "name": "ml.m5d.12xlarge",
    "vcpuNum": 48
   },
   {
    "_defaultOrder": 18,
    "_isFastLaunch": false,
    "category": "General purpose",
    "gpuNum": 0,
    "hideHardwareSpecs": false,
    "memoryGiB": 256,
    "name": "ml.m5d.16xlarge",
    "vcpuNum": 64
   },
   {
    "_defaultOrder": 19,
    "_isFastLaunch": false,
    "category": "General purpose",
    "gpuNum": 0,
    "hideHardwareSpecs": false,
    "memoryGiB": 384,
    "name": "ml.m5d.24xlarge",
    "vcpuNum": 96
   },
   {
    "_defaultOrder": 20,
    "_isFastLaunch": false,
    "category": "General purpose",
    "gpuNum": 0,
    "hideHardwareSpecs": true,
    "memoryGiB": 0,
    "name": "ml.geospatial.interactive",
    "supportedImageNames": [
     "sagemaker-geospatial-v1-0"
    ],
    "vcpuNum": 0
   },
   {
    "_defaultOrder": 21,
    "_isFastLaunch": true,
    "category": "Compute optimized",
    "gpuNum": 0,
    "hideHardwareSpecs": false,
    "memoryGiB": 4,
    "name": "ml.c5.large",
    "vcpuNum": 2
   },
   {
    "_defaultOrder": 22,
    "_isFastLaunch": false,
    "category": "Compute optimized",
    "gpuNum": 0,
    "hideHardwareSpecs": false,
    "memoryGiB": 8,
    "name": "ml.c5.xlarge",
    "vcpuNum": 4
   },
   {
    "_defaultOrder": 23,
    "_isFastLaunch": false,
    "category": "Compute optimized",
    "gpuNum": 0,
    "hideHardwareSpecs": false,
    "memoryGiB": 16,
    "name": "ml.c5.2xlarge",
    "vcpuNum": 8
   },
   {
    "_defaultOrder": 24,
    "_isFastLaunch": false,
    "category": "Compute optimized",
    "gpuNum": 0,
    "hideHardwareSpecs": false,
    "memoryGiB": 32,
    "name": "ml.c5.4xlarge",
    "vcpuNum": 16
   },
   {
    "_defaultOrder": 25,
    "_isFastLaunch": false,
    "category": "Compute optimized",
    "gpuNum": 0,
    "hideHardwareSpecs": false,
    "memoryGiB": 72,
    "name": "ml.c5.9xlarge",
    "vcpuNum": 36
   },
   {
    "_defaultOrder": 26,
    "_isFastLaunch": false,
    "category": "Compute optimized",
    "gpuNum": 0,
    "hideHardwareSpecs": false,
    "memoryGiB": 96,
    "name": "ml.c5.12xlarge",
    "vcpuNum": 48
   },
   {
    "_defaultOrder": 27,
    "_isFastLaunch": false,
    "category": "Compute optimized",
    "gpuNum": 0,
    "hideHardwareSpecs": false,
    "memoryGiB": 144,
    "name": "ml.c5.18xlarge",
    "vcpuNum": 72
   },
   {
    "_defaultOrder": 28,
    "_isFastLaunch": false,
    "category": "Compute optimized",
    "gpuNum": 0,
    "hideHardwareSpecs": false,
    "memoryGiB": 192,
    "name": "ml.c5.24xlarge",
    "vcpuNum": 96
   },
   {
    "_defaultOrder": 29,
    "_isFastLaunch": true,
    "category": "Accelerated computing",
    "gpuNum": 1,
    "hideHardwareSpecs": false,
    "memoryGiB": 16,
    "name": "ml.g4dn.xlarge",
    "vcpuNum": 4
   },
   {
    "_defaultOrder": 30,
    "_isFastLaunch": false,
    "category": "Accelerated computing",
    "gpuNum": 1,
    "hideHardwareSpecs": false,
    "memoryGiB": 32,
    "name": "ml.g4dn.2xlarge",
    "vcpuNum": 8
   },
   {
    "_defaultOrder": 31,
    "_isFastLaunch": false,
    "category": "Accelerated computing",
    "gpuNum": 1,
    "hideHardwareSpecs": false,
    "memoryGiB": 64,
    "name": "ml.g4dn.4xlarge",
    "vcpuNum": 16
   },
   {
    "_defaultOrder": 32,
    "_isFastLaunch": false,
    "category": "Accelerated computing",
    "gpuNum": 1,
    "hideHardwareSpecs": false,
    "memoryGiB": 128,
    "name": "ml.g4dn.8xlarge",
    "vcpuNum": 32
   },
   {
    "_defaultOrder": 33,
    "_isFastLaunch": false,
    "category": "Accelerated computing",
    "gpuNum": 4,
    "hideHardwareSpecs": false,
    "memoryGiB": 192,
    "name": "ml.g4dn.12xlarge",
    "vcpuNum": 48
   },
   {
    "_defaultOrder": 34,
    "_isFastLaunch": false,
    "category": "Accelerated computing",
    "gpuNum": 1,
    "hideHardwareSpecs": false,
    "memoryGiB": 256,
    "name": "ml.g4dn.16xlarge",
    "vcpuNum": 64
   },
   {
    "_defaultOrder": 35,
    "_isFastLaunch": false,
    "category": "Accelerated computing",
    "gpuNum": 1,
    "hideHardwareSpecs": false,
    "memoryGiB": 61,
    "name": "ml.p3.2xlarge",
    "vcpuNum": 8
   },
   {
    "_defaultOrder": 36,
    "_isFastLaunch": false,
    "category": "Accelerated computing",
    "gpuNum": 4,
    "hideHardwareSpecs": false,
    "memoryGiB": 244,
    "name": "ml.p3.8xlarge",
    "vcpuNum": 32
   },
   {
    "_defaultOrder": 37,
    "_isFastLaunch": false,
    "category": "Accelerated computing",
    "gpuNum": 8,
    "hideHardwareSpecs": false,
    "memoryGiB": 488,
    "name": "ml.p3.16xlarge",
    "vcpuNum": 64
   },
   {
    "_defaultOrder": 38,
    "_isFastLaunch": false,
    "category": "Accelerated computing",
    "gpuNum": 8,
    "hideHardwareSpecs": false,
    "memoryGiB": 768,
    "name": "ml.p3dn.24xlarge",
    "vcpuNum": 96
   },
   {
    "_defaultOrder": 39,
    "_isFastLaunch": false,
    "category": "Memory Optimized",
    "gpuNum": 0,
    "hideHardwareSpecs": false,
    "memoryGiB": 16,
    "name": "ml.r5.large",
    "vcpuNum": 2
   },
   {
    "_defaultOrder": 40,
    "_isFastLaunch": false,
    "category": "Memory Optimized",
    "gpuNum": 0,
    "hideHardwareSpecs": false,
    "memoryGiB": 32,
    "name": "ml.r5.xlarge",
    "vcpuNum": 4
   },
   {
    "_defaultOrder": 41,
    "_isFastLaunch": false,
    "category": "Memory Optimized",
    "gpuNum": 0,
    "hideHardwareSpecs": false,
    "memoryGiB": 64,
    "name": "ml.r5.2xlarge",
    "vcpuNum": 8
   },
   {
    "_defaultOrder": 42,
    "_isFastLaunch": false,
    "category": "Memory Optimized",
    "gpuNum": 0,
    "hideHardwareSpecs": false,
    "memoryGiB": 128,
    "name": "ml.r5.4xlarge",
    "vcpuNum": 16
   },
   {
    "_defaultOrder": 43,
    "_isFastLaunch": false,
    "category": "Memory Optimized",
    "gpuNum": 0,
    "hideHardwareSpecs": false,
    "memoryGiB": 256,
    "name": "ml.r5.8xlarge",
    "vcpuNum": 32
   },
   {
    "_defaultOrder": 44,
    "_isFastLaunch": false,
    "category": "Memory Optimized",
    "gpuNum": 0,
    "hideHardwareSpecs": false,
    "memoryGiB": 384,
    "name": "ml.r5.12xlarge",
    "vcpuNum": 48
   },
   {
    "_defaultOrder": 45,
    "_isFastLaunch": false,
    "category": "Memory Optimized",
    "gpuNum": 0,
    "hideHardwareSpecs": false,
    "memoryGiB": 512,
    "name": "ml.r5.16xlarge",
    "vcpuNum": 64
   },
   {
    "_defaultOrder": 46,
    "_isFastLaunch": false,
    "category": "Memory Optimized",
    "gpuNum": 0,
    "hideHardwareSpecs": false,
    "memoryGiB": 768,
    "name": "ml.r5.24xlarge",
    "vcpuNum": 96
   },
   {
    "_defaultOrder": 47,
    "_isFastLaunch": false,
    "category": "Accelerated computing",
    "gpuNum": 1,
    "hideHardwareSpecs": false,
    "memoryGiB": 16,
    "name": "ml.g5.xlarge",
    "vcpuNum": 4
   },
   {
    "_defaultOrder": 48,
    "_isFastLaunch": false,
    "category": "Accelerated computing",
    "gpuNum": 1,
    "hideHardwareSpecs": false,
    "memoryGiB": 32,
    "name": "ml.g5.2xlarge",
    "vcpuNum": 8
   },
   {
    "_defaultOrder": 49,
    "_isFastLaunch": false,
    "category": "Accelerated computing",
    "gpuNum": 1,
    "hideHardwareSpecs": false,
    "memoryGiB": 64,
    "name": "ml.g5.4xlarge",
    "vcpuNum": 16
   },
   {
    "_defaultOrder": 50,
    "_isFastLaunch": false,
    "category": "Accelerated computing",
    "gpuNum": 1,
    "hideHardwareSpecs": false,
    "memoryGiB": 128,
    "name": "ml.g5.8xlarge",
    "vcpuNum": 32
   },
   {
    "_defaultOrder": 51,
    "_isFastLaunch": false,
    "category": "Accelerated computing",
    "gpuNum": 1,
    "hideHardwareSpecs": false,
    "memoryGiB": 256,
    "name": "ml.g5.16xlarge",
    "vcpuNum": 64
   },
   {
    "_defaultOrder": 52,
    "_isFastLaunch": false,
    "category": "Accelerated computing",
    "gpuNum": 4,
    "hideHardwareSpecs": false,
    "memoryGiB": 192,
    "name": "ml.g5.12xlarge",
    "vcpuNum": 48
   },
   {
    "_defaultOrder": 53,
    "_isFastLaunch": false,
    "category": "Accelerated computing",
    "gpuNum": 4,
    "hideHardwareSpecs": false,
    "memoryGiB": 384,
    "name": "ml.g5.24xlarge",
    "vcpuNum": 96
   },
   {
    "_defaultOrder": 54,
    "_isFastLaunch": false,
    "category": "Accelerated computing",
    "gpuNum": 8,
    "hideHardwareSpecs": false,
    "memoryGiB": 768,
    "name": "ml.g5.48xlarge",
    "vcpuNum": 192
   }
  ],
  "instance_type": "ml.t3.medium",
  "kernelspec": {
   "display_name": "Python 3 (Base Python 3.0)",
   "language": "python",
   "name": "python3__SAGEMAKER_INTERNAL__arn:aws:sagemaker:us-east-1:081325390199:image/sagemaker-base-python-310-v1"
  },
  "language_info": {
   "codemirror_mode": {
    "name": "ipython",
    "version": 3
   },
   "file_extension": ".py",
   "mimetype": "text/x-python",
   "name": "python",
   "nbconvert_exporter": "python",
   "pygments_lexer": "ipython3",
   "version": "3.10.8"
  }
 },
 "nbformat": 4,
 "nbformat_minor": 5
}
